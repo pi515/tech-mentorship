{
 "cells": [
  {
   "cell_type": "code",
   "execution_count": null,
   "id": "05602e5b-9627-4040-ba0b-1563a3bbb154",
   "metadata": {},
   "outputs": [],
   "source": [
    "## define ListOrganiser class here\n",
    "\n",
    "\n"
   ]
  },
  {
   "cell_type": "code",
   "execution_count": 1,
   "id": "36a29793-397a-4706-83d5-f377049ab835",
   "metadata": {},
   "outputs": [],
   "source": [
    "lst = ListOrganiser()\n",
    "\n",
    "lst.add_item('cherries')\n",
    "lst.add_item('turnips')\n",
    "lst.add_item('okra')\n",
    "lst.add_item('tomatoes')\n",
    "\n",
    "\n",
    "print(lst) # ['cherries', 'turnips', 'okra', 'tomatoes']"
   ]
  },
  {
   "cell_type": "code",
   "execution_count": 2,
   "id": "b2919f89-da4b-439c-8edc-4e4a3a2b73bd",
   "metadata": {},
   "outputs": [],
   "source": [
    "# go shopping\n",
    "lst.remove_item('cherries')\n",
    "lst.remove_item('okra')\n",
    "\n",
    "print(lst) # ['turnips', 'tomatoes']"
   ]
  },
  {
   "cell_type": "code",
   "execution_count": 3,
   "id": "75874903-0a99-442a-82e4-1e259d3c9bc3",
   "metadata": {},
   "outputs": [],
   "source": [
    "lst.sort_list()\n",
    "\n",
    "print(lst) # ['tomatoes', 'turnips']"
   ]
  }
 ],
 "metadata": {
  "kernelspec": {
   "display_name": "Python 3 (ipykernel)",
   "language": "python",
   "name": "python3"
  },
  "language_info": {
   "codemirror_mode": {
    "name": "ipython",
    "version": 3
   },
   "file_extension": ".py",
   "mimetype": "text/x-python",
   "name": "python",
   "nbconvert_exporter": "python",
   "pygments_lexer": "ipython3",
   "version": "3.13.2"
  }
 },
 "nbformat": 4,
 "nbformat_minor": 5
}
